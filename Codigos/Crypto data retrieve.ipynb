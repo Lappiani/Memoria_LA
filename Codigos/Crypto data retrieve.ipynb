{
 "cells": [
  {
   "cell_type": "code",
   "execution_count": 4,
   "metadata": {},
   "outputs": [
    {
     "name": "stdout",
     "output_type": "stream",
     "text": [
      "250\n",
      "['BTC-USD', 'ETH-USD', 'USDT-USD', 'BNB-USD', 'XRP-USD', 'SOL-USD', 'USDC-USD', 'STETH-USD', 'ADA-USD', 'DOGE-USD', 'WTRX-USD', 'TRX-USD', 'MATIC-USD', 'LINK-USD', 'TON11419-USD', 'AVAX-USD', 'DOT-USD', 'WBTC-USD', 'DAI-USD', 'LTC-USD', 'SHIB-USD', 'BCH-USD', 'WEOS-USD', 'LEO-USD', 'OKB-USD', 'ATOM-USD', 'XLM-USD', 'TUSD-USD', 'UNI7083-USD', 'XMR-USD', 'ETC-USD', 'CRO-USD', 'FIL-USD', 'KAS-USD', 'UIP-USD', 'LDO-USD', 'APT21794-USD', 'ICP-USD', 'WHBAR-USD', 'HBAR-USD', 'RUNE-USD', 'BTCB-USD', 'BUSD-USD', 'NEAR-USD', 'BXC5168-USD', 'OP-USD', 'WBETH-USD', 'VET-USD', 'IMX10603-USD', 'ARB11841-USD', 'MNT27075-USD', 'MKR-USD', 'INJ-USD', 'AAVE-USD', 'TREX-USD', 'QNT-USD', 'EGLD-USD', 'GRT6719-USD', 'HEX-USD', 'FTT-USD', 'ALGO-USD', 'FLOW-USD', 'THETA-USD', 'BSV-USD', 'RNDR-USD', 'FTM-USD', 'STX4847-USD', 'SAND-USD', 'AXS-USD', 'TIA22861-USD', 'MANA-USD', 'NEO-USD', 'XTZ-USD', 'EOS-USD', 'RLB-USD', 'KAVA-USD', 'SNX-USD', 'ETHDYDX-USD', 'BGB-USD', 'USDD-USD', 'XDC-USD', 'FDUSD-USD', 'FRAX-USD', 'MINA-USD', 'CAKE-USD', 'GALA-USD', 'XEC-USD', 'WBNB-USD', 'TNC5524-USD', 'CHZ-USD', 'FXS-USD', 'KCS-USD', 'WEMIX-USD', 'GAS-USD', 'SUI20947-USD', 'RPL-USD', 'IOTA-USD', 'CFX-USD', 'KLAY-USD', 'CHEEL-USD', 'CRV-USD', 'APE18876-USD', 'TWT-USD', 'PEPE24478-USD', 'ZEC-USD', 'AR-USD', 'GMX11857-USD', 'XAUT-USD', 'VBNB-USD', 'BTTOLD-USD', 'HT-USD', 'LUNC-USD', 'ORDI-USD', 'ROSE-USD', 'BTT-USD', 'USDP-USD', 'PAXG-USD', 'COMP5692-USD', 'XRD-USD', 'ZRX-USD', 'GNO-USD', 'WOO-USD', 'LUNA20314-USD', 'KUJI-USD', 'NEXO-USD', 'GT-USD', 'CSPR-USD', 'WKAVA-USD', 'BLUR-USD', '1INCH-USD', 'ZIL-USD', 'AZERO-USD', 'DASH-USD', 'YFI-USD', 'ASTR-USD', 'GMT18069-USD', 'HBTC-USD', 'MEME28301-USD', 'ILV-USD', 'BAT-USD', 'FET-USD', 'FLOKI-USD', 'QTUM-USD', 'XEM-USD', 'OSMO-USD', 'FLR-USD', 'LRC-USD', 'ELF-USD', 'NFT9816-USD', 'AGIX-USD', 'CVX-USD', 'USDJ-USD', 'BEAM28298-USD', 'SEI-USD', 'HNT-USD', 'JST-USD', 'MX-USD', 'CELO-USD', 'ARK-USD', 'MASK8536-USD', 'GLM-USD', 'TFUEL-USD', 'SFP-USD', 'ENJ-USD', 'HOT2682-USD', 'DORA27966-USD', 'BDX-USD', 'ORBR-USD', 'ICX-USD', 'WLD-USD', 'STORJ-USD', 'ENS-USD', 'WAVES-USD', 'BTG-USD', 'ANKR-USD', 'PENDLE-USD', 'JASMY-USD', 'FTN-USD', 'XCH-USD', 'RVN-USD', 'SC-USD', 'IOTX-USD', 'OCEAN-USD', 'SUSHI-USD', 'DFI-USD', 'POLY-USD', 'AUDIO-USD', 'DCR-USD', 'T-USD', 'FLEX-USD', 'ANT-USD', 'LPT-USD', 'TRB-USD', 'WAXP-USD', 'RON14101-USD', 'AKT-USD', 'KSM-USD', 'LUSD-USD', 'BAL-USD', 'SXP-USD', 'EDGT-USD', 'BORG-USD', 'FNSA-USD', 'AXL17799-USD', 'BAND-USD', 'GLMR-USD', 'ONT-USD', 'BICO-USD', 'ONE3945-USD', 'CFG-USD', 'SSV-USD', 'BABYDOGE-USD', 'LYX-USD', 'HIVE-USD', 'PYR-USD', 'ATOR-USD', 'XYM-USD', 'ETHW-USD', 'IOST-USD', 'TEL-USD', 'SNT-USD', 'PRIME23711-USD', 'TRIBE-USD', 'ZEN-USD', 'PYUSD-USD', 'KDA-USD', 'LOOM-USD', 'CKB-USD', 'POLYX-USD', 'STRAX-USD', 'MAGIC14783-USD', 'JOE-USD', 'GUSD-USD', 'BONE11865-USD', 'ORBS-USD', 'VBTC-USD', 'TOMI23246-USD', 'SKL-USD', 'VVS-USD', 'LSK-USD', 'BORA-USD', 'FLUX-USD', 'ACH-USD', 'BONK-USD', 'DGB-USD', 'GAL11877-USD', 'LQTY-USD', 'SURE-USD', 'UMA-USD', 'PUNDIX-USD']\n"
     ]
    }
   ],
   "source": [
    "from yahooquery import Screener\n",
    "\n",
    "s = Screener()\n",
    "# Solo deja sacar un max. de 250 cryptos\n",
    "data = s.get_screeners('all_cryptocurrencies_us', count = 250)  # data is in the 'quotes' key\n",
    "dicts = data['all_cryptocurrencies_us']['quotes']\n",
    "symbols = [d['symbol'] for d in dicts]\n",
    "print(len(symbols))\n",
    "print(symbols)"
   ]
  },
  {
   "cell_type": "code",
   "execution_count": 5,
   "metadata": {},
   "outputs": [
    {
     "name": "stdout",
     "output_type": "stream",
     "text": [
      "[*********************100%%**********************]  1 of 1 completed\n",
      "[*********************100%%**********************]  1 of 1 completed\n",
      "[*********************100%%**********************]  1 of 1 completed\n",
      "[*********************100%%**********************]  1 of 1 completed\n",
      "[*********************100%%**********************]  1 of 1 completed\n",
      "[*********************100%%**********************]  1 of 1 completed\n",
      "[*********************100%%**********************]  1 of 1 completed\n",
      "[*********************100%%**********************]  1 of 1 completed\n",
      "[*********************100%%**********************]  1 of 1 completed\n",
      "[*********************100%%**********************]  1 of 1 completed\n",
      "[*********************100%%**********************]  1 of 1 completed\n",
      "[*********************100%%**********************]  1 of 1 completed\n",
      "[*********************100%%**********************]  1 of 1 completed\n",
      "[*********************100%%**********************]  1 of 1 completed\n",
      "[*********************100%%**********************]  1 of 1 completed\n",
      "[*********************100%%**********************]  1 of 1 completed\n",
      "[*********************100%%**********************]  1 of 1 completed\n",
      "[*********************100%%**********************]  1 of 1 completed\n",
      "[*********************100%%**********************]  1 of 1 completed\n",
      "[*********************100%%**********************]  1 of 1 completed\n",
      "[*********************100%%**********************]  1 of 1 completed\n",
      "[*********************100%%**********************]  1 of 1 completed\n",
      "[*********************100%%**********************]  1 of 1 completed"
     ]
    },
    {
     "name": "stderr",
     "output_type": "stream",
     "text": [
      "\n",
      "1 Failed download:\n",
      "['WEOS-USD']: IndexError('index 0 is out of bounds for axis 0 with size 0')\n"
     ]
    },
    {
     "name": "stdout",
     "output_type": "stream",
     "text": [
      "\n",
      "[*********************100%%**********************]  1 of 1 completed\n",
      "[*********************100%%**********************]  1 of 1 completed\n",
      "[*********************100%%**********************]  1 of 1 completed\n",
      "[*********************100%%**********************]  1 of 1 completed\n",
      "[*********************100%%**********************]  1 of 1 completed\n",
      "[*********************100%%**********************]  1 of 1 completed\n",
      "[*********************100%%**********************]  1 of 1 completed\n",
      "[*********************100%%**********************]  1 of 1 completed\n",
      "[*********************100%%**********************]  1 of 1 completed\n",
      "[*********************100%%**********************]  1 of 1 completed\n",
      "[*********************100%%**********************]  1 of 1 completed\n",
      "[*********************100%%**********************]  1 of 1 completed\n",
      "[*********************100%%**********************]  1 of 1 completed\n",
      "[*********************100%%**********************]  1 of 1 completed\n",
      "[*********************100%%**********************]  1 of 1 completed\n",
      "[*********************100%%**********************]  1 of 1 completed\n",
      "[*********************100%%**********************]  1 of 1 completed\n",
      "[*********************100%%**********************]  1 of 1 completed\n",
      "[*********************100%%**********************]  1 of 1 completed\n",
      "[*********************100%%**********************]  1 of 1 completed\n",
      "[*********************100%%**********************]  1 of 1 completed\n",
      "[*********************100%%**********************]  1 of 1 completed\n",
      "[*********************100%%**********************]  1 of 1 completed\n",
      "[*********************100%%**********************]  1 of 1 completed\n",
      "[*********************100%%**********************]  1 of 1 completed\n",
      "[*********************100%%**********************]  1 of 1 completed\n",
      "[*********************100%%**********************]  1 of 1 completed\n",
      "[*********************100%%**********************]  1 of 1 completed"
     ]
    },
    {
     "name": "stderr",
     "output_type": "stream",
     "text": [
      "\n",
      "1 Failed download:\n",
      "['MNT27075-USD']: IndexError('index 0 is out of bounds for axis 0 with size 0')\n"
     ]
    },
    {
     "name": "stdout",
     "output_type": "stream",
     "text": [
      "\n",
      "[*********************100%%**********************]  1 of 1 completed\n",
      "[*********************100%%**********************]  1 of 1 completed\n",
      "[*********************100%%**********************]  1 of 1 completed\n",
      "[*********************100%%**********************]  1 of 1 completed\n",
      "[*********************100%%**********************]  1 of 1 completed\n",
      "[*********************100%%**********************]  1 of 1 completed\n",
      "[*********************100%%**********************]  1 of 1 completed\n",
      "[*********************100%%**********************]  1 of 1 completed\n",
      "[*********************100%%**********************]  1 of 1 completed\n",
      "[*********************100%%**********************]  1 of 1 completed\n",
      "[*********************100%%**********************]  1 of 1 completed\n",
      "[*********************100%%**********************]  1 of 1 completed\n",
      "[*********************100%%**********************]  1 of 1 completed\n",
      "[*********************100%%**********************]  1 of 1 completed\n",
      "[*********************100%%**********************]  1 of 1 completed\n",
      "[*********************100%%**********************]  1 of 1 completed\n",
      "[*********************100%%**********************]  1 of 1 completed\n",
      "[*********************100%%**********************]  1 of 1 completed\n",
      "[*********************100%%**********************]  1 of 1 completed"
     ]
    },
    {
     "name": "stderr",
     "output_type": "stream",
     "text": [
      "\n",
      "1 Failed download:\n",
      "['TIA22861-USD']: IndexError('index 0 is out of bounds for axis 0 with size 0')\n"
     ]
    },
    {
     "name": "stdout",
     "output_type": "stream",
     "text": [
      "\n",
      "[*********************100%%**********************]  1 of 1 completed\n",
      "[*********************100%%**********************]  1 of 1 completed\n",
      "[*********************100%%**********************]  1 of 1 completed\n",
      "[*********************100%%**********************]  1 of 1 completed\n",
      "[*********************100%%**********************]  1 of 1 completed\n",
      "[*********************100%%**********************]  1 of 1 completed\n",
      "[*********************100%%**********************]  1 of 1 completed\n",
      "[*********************100%%**********************]  1 of 1 completed"
     ]
    },
    {
     "name": "stderr",
     "output_type": "stream",
     "text": [
      "\n",
      "1 Failed download:\n",
      "['ETHDYDX-USD']: IndexError('index 0 is out of bounds for axis 0 with size 0')\n"
     ]
    },
    {
     "name": "stdout",
     "output_type": "stream",
     "text": [
      "\n",
      "[*********************100%%**********************]  1 of 1 completed\n",
      "[*********************100%%**********************]  1 of 1 completed\n",
      "[*********************100%%**********************]  1 of 1 completed\n",
      "[*********************100%%**********************]  1 of 1 completed"
     ]
    },
    {
     "name": "stderr",
     "output_type": "stream",
     "text": [
      "\n",
      "1 Failed download:\n",
      "['FDUSD-USD']: IndexError('index 0 is out of bounds for axis 0 with size 0')\n"
     ]
    },
    {
     "name": "stdout",
     "output_type": "stream",
     "text": [
      "\n",
      "[*********************100%%**********************]  1 of 1 completed\n",
      "[*********************100%%**********************]  1 of 1 completed\n",
      "[*********************100%%**********************]  1 of 1 completed\n",
      "[*********************100%%**********************]  1 of 1 completed\n",
      "[*********************100%%**********************]  1 of 1 completed\n",
      "[*********************100%%**********************]  1 of 1 completed\n",
      "[*********************100%%**********************]  1 of 1 completed\n",
      "[*********************100%%**********************]  1 of 1 completed\n",
      "[*********************100%%**********************]  1 of 1 completed\n",
      "[*********************100%%**********************]  1 of 1 completed\n",
      "[*********************100%%**********************]  1 of 1 completed\n",
      "[*********************100%%**********************]  1 of 1 completed\n",
      "[*********************100%%**********************]  1 of 1 completed\n",
      "[*********************100%%**********************]  1 of 1 completed\n",
      "[*********************100%%**********************]  1 of 1 completed"
     ]
    },
    {
     "name": "stderr",
     "output_type": "stream",
     "text": [
      "\n",
      "1 Failed download:\n",
      "['IOTA-USD']: IndexError('index 0 is out of bounds for axis 0 with size 0')\n"
     ]
    },
    {
     "name": "stdout",
     "output_type": "stream",
     "text": [
      "\n",
      "[*********************100%%**********************]  1 of 1 completed\n",
      "[*********************100%%**********************]  1 of 1 completed\n",
      "[*********************100%%**********************]  1 of 1 completed\n",
      "[*********************100%%**********************]  1 of 1 completed\n",
      "[*********************100%%**********************]  1 of 1 completed\n",
      "[*********************100%%**********************]  1 of 1 completed\n",
      "[*********************100%%**********************]  1 of 1 completed\n",
      "[*********************100%%**********************]  1 of 1 completed\n",
      "[*********************100%%**********************]  1 of 1 completed\n",
      "[*********************100%%**********************]  1 of 1 completed\n",
      "[*********************100%%**********************]  1 of 1 completed\n",
      "[*********************100%%**********************]  1 of 1 completed\n",
      "[*********************100%%**********************]  1 of 1 completed\n",
      "[*********************100%%**********************]  1 of 1 completed\n",
      "[*********************100%%**********************]  1 of 1 completed\n",
      "[*********************100%%**********************]  1 of 1 completed"
     ]
    },
    {
     "name": "stderr",
     "output_type": "stream",
     "text": [
      "\n",
      "1 Failed download:\n",
      "['ORDI-USD']: IndexError('index 0 is out of bounds for axis 0 with size 0')\n"
     ]
    },
    {
     "name": "stdout",
     "output_type": "stream",
     "text": [
      "\n",
      "[*********************100%%**********************]  1 of 1 completed\n",
      "[*********************100%%**********************]  1 of 1 completed\n",
      "[*********************100%%**********************]  1 of 1 completed\n",
      "[*********************100%%**********************]  1 of 1 completed\n",
      "[*********************100%%**********************]  1 of 1 completed\n",
      "[*********************100%%**********************]  1 of 1 completed\n",
      "[*********************100%%**********************]  1 of 1 completed\n",
      "[*********************100%%**********************]  1 of 1 completed\n",
      "[*********************100%%**********************]  1 of 1 completed\n",
      "[*********************100%%**********************]  1 of 1 completed\n",
      "[*********************100%%**********************]  1 of 1 completed\n",
      "[*********************100%%**********************]  1 of 1 completed\n",
      "[*********************100%%**********************]  1 of 1 completed\n",
      "[*********************100%%**********************]  1 of 1 completed\n",
      "[*********************100%%**********************]  1 of 1 completed\n",
      "[*********************100%%**********************]  1 of 1 completed\n",
      "[*********************100%%**********************]  1 of 1 completed\n",
      "[*********************100%%**********************]  1 of 1 completed\n",
      "[*********************100%%**********************]  1 of 1 completed\n",
      "[*********************100%%**********************]  1 of 1 completed\n",
      "[*********************100%%**********************]  1 of 1 completed\n",
      "[*********************100%%**********************]  1 of 1 completed\n",
      "[*********************100%%**********************]  1 of 1 completed\n",
      "[*********************100%%**********************]  1 of 1 completed\n",
      "[*********************100%%**********************]  1 of 1 completed"
     ]
    },
    {
     "name": "stderr",
     "output_type": "stream",
     "text": [
      "\n",
      "1 Failed download:\n",
      "['MEME28301-USD']: IndexError('index 0 is out of bounds for axis 0 with size 0')\n"
     ]
    },
    {
     "name": "stdout",
     "output_type": "stream",
     "text": [
      "\n",
      "[*********************100%%**********************]  1 of 1 completed\n",
      "[*********************100%%**********************]  1 of 1 completed\n",
      "[*********************100%%**********************]  1 of 1 completed\n",
      "[*********************100%%**********************]  1 of 1 completed\n",
      "[*********************100%%**********************]  1 of 1 completed\n",
      "[*********************100%%**********************]  1 of 1 completed\n",
      "[*********************100%%**********************]  1 of 1 completed\n",
      "[*********************100%%**********************]  1 of 1 completed\n",
      "[*********************100%%**********************]  1 of 1 completed\n",
      "[*********************100%%**********************]  1 of 1 completed\n",
      "[*********************100%%**********************]  1 of 1 completed\n",
      "[*********************100%%**********************]  1 of 1 completed\n",
      "[*********************100%%**********************]  1 of 1 completed\n",
      "[*********************100%%**********************]  1 of 1 completed\n",
      "[*********************100%%**********************]  1 of 1 completed"
     ]
    },
    {
     "name": "stderr",
     "output_type": "stream",
     "text": [
      "\n",
      "1 Failed download:\n",
      "['BEAM28298-USD']: IndexError('index 0 is out of bounds for axis 0 with size 0')\n"
     ]
    },
    {
     "name": "stdout",
     "output_type": "stream",
     "text": [
      "\n",
      "[*********************100%%**********************]  1 of 1 completed"
     ]
    },
    {
     "name": "stderr",
     "output_type": "stream",
     "text": [
      "\n",
      "1 Failed download:\n",
      "['SEI-USD']: IndexError('index 0 is out of bounds for axis 0 with size 0')\n"
     ]
    },
    {
     "name": "stdout",
     "output_type": "stream",
     "text": [
      "\n",
      "[*********************100%%**********************]  1 of 1 completed\n",
      "[*********************100%%**********************]  1 of 1 completed\n",
      "[*********************100%%**********************]  1 of 1 completed\n",
      "[*********************100%%**********************]  1 of 1 completed\n",
      "[*********************100%%**********************]  1 of 1 completed\n",
      "[*********************100%%**********************]  1 of 1 completed\n",
      "[*********************100%%**********************]  1 of 1 completed\n",
      "[*********************100%%**********************]  1 of 1 completed\n",
      "[*********************100%%**********************]  1 of 1 completed\n",
      "[*********************100%%**********************]  1 of 1 completed\n",
      "[*********************100%%**********************]  1 of 1 completed\n",
      "[*********************100%%**********************]  1 of 1 completed"
     ]
    },
    {
     "name": "stderr",
     "output_type": "stream",
     "text": [
      "\n",
      "1 Failed download:\n",
      "['DORA27966-USD']: IndexError('index 0 is out of bounds for axis 0 with size 0')\n"
     ]
    },
    {
     "name": "stdout",
     "output_type": "stream",
     "text": [
      "\n",
      "[*********************100%%**********************]  1 of 1 completed\n",
      "[*********************100%%**********************]  1 of 1 completed\n",
      "[*********************100%%**********************]  1 of 1 completed\n",
      "[*********************100%%**********************]  1 of 1 completed\n",
      "[*********************100%%**********************]  1 of 1 completed\n",
      "[*********************100%%**********************]  1 of 1 completed\n",
      "[*********************100%%**********************]  1 of 1 completed\n",
      "[*********************100%%**********************]  1 of 1 completed\n",
      "[*********************100%%**********************]  1 of 1 completed\n",
      "[*********************100%%**********************]  1 of 1 completed\n",
      "[*********************100%%**********************]  1 of 1 completed\n",
      "[*********************100%%**********************]  1 of 1 completed\n",
      "[*********************100%%**********************]  1 of 1 completed\n",
      "[*********************100%%**********************]  1 of 1 completed\n",
      "[*********************100%%**********************]  1 of 1 completed\n",
      "[*********************100%%**********************]  1 of 1 completed\n",
      "[*********************100%%**********************]  1 of 1 completed\n",
      "[*********************100%%**********************]  1 of 1 completed\n",
      "[*********************100%%**********************]  1 of 1 completed\n",
      "[*********************100%%**********************]  1 of 1 completed\n",
      "[*********************100%%**********************]  1 of 1 completed\n",
      "[*********************100%%**********************]  1 of 1 completed\n",
      "[*********************100%%**********************]  1 of 1 completed\n",
      "[*********************100%%**********************]  1 of 1 completed\n",
      "[*********************100%%**********************]  1 of 1 completed\n",
      "[*********************100%%**********************]  1 of 1 completed\n",
      "[*********************100%%**********************]  1 of 1 completed\n",
      "[*********************100%%**********************]  1 of 1 completed\n",
      "[*********************100%%**********************]  1 of 1 completed\n",
      "[*********************100%%**********************]  1 of 1 completed\n",
      "[*********************100%%**********************]  1 of 1 completed\n",
      "[*********************100%%**********************]  1 of 1 completed\n",
      "[*********************100%%**********************]  1 of 1 completed\n",
      "[*********************100%%**********************]  1 of 1 completed\n",
      "[*********************100%%**********************]  1 of 1 completed\n",
      "[*********************100%%**********************]  1 of 1 completed"
     ]
    },
    {
     "name": "stderr",
     "output_type": "stream",
     "text": [
      "\n",
      "1 Failed download:\n",
      "['BORG-USD']: IndexError('index 0 is out of bounds for axis 0 with size 0')\n"
     ]
    },
    {
     "name": "stdout",
     "output_type": "stream",
     "text": [
      "\n",
      "[*********************100%%**********************]  1 of 1 completed"
     ]
    },
    {
     "name": "stderr",
     "output_type": "stream",
     "text": [
      "\n",
      "1 Failed download:\n",
      "['FNSA-USD']: IndexError('index 0 is out of bounds for axis 0 with size 0')\n"
     ]
    },
    {
     "name": "stdout",
     "output_type": "stream",
     "text": [
      "\n",
      "[*********************100%%**********************]  1 of 1 completed\n",
      "[*********************100%%**********************]  1 of 1 completed\n",
      "[*********************100%%**********************]  1 of 1 completed\n",
      "[*********************100%%**********************]  1 of 1 completed\n",
      "[*********************100%%**********************]  1 of 1 completed\n",
      "[*********************100%%**********************]  1 of 1 completed\n",
      "[*********************100%%**********************]  1 of 1 completed\n",
      "[*********************100%%**********************]  1 of 1 completed\n",
      "[*********************100%%**********************]  1 of 1 completed\n",
      "[*********************100%%**********************]  1 of 1 completed"
     ]
    },
    {
     "name": "stderr",
     "output_type": "stream",
     "text": [
      "\n",
      "1 Failed download:\n",
      "['LYX-USD']: IndexError('index 0 is out of bounds for axis 0 with size 0')\n"
     ]
    },
    {
     "name": "stdout",
     "output_type": "stream",
     "text": [
      "\n",
      "[*********************100%%**********************]  1 of 1 completed\n",
      "[*********************100%%**********************]  1 of 1 completed\n",
      "[*********************100%%**********************]  1 of 1 completed\n",
      "[*********************100%%**********************]  1 of 1 completed\n",
      "[*********************100%%**********************]  1 of 1 completed\n",
      "[*********************100%%**********************]  1 of 1 completed\n",
      "[*********************100%%**********************]  1 of 1 completed\n",
      "[*********************100%%**********************]  1 of 1 completed\n",
      "[*********************100%%**********************]  1 of 1 completed\n",
      "[*********************100%%**********************]  1 of 1 completed\n",
      "[*********************100%%**********************]  1 of 1 completed\n",
      "[*********************100%%**********************]  1 of 1 completed"
     ]
    },
    {
     "name": "stderr",
     "output_type": "stream",
     "text": [
      "\n",
      "1 Failed download:\n",
      "['PYUSD-USD']: IndexError('index 0 is out of bounds for axis 0 with size 0')\n"
     ]
    },
    {
     "name": "stdout",
     "output_type": "stream",
     "text": [
      "\n",
      "[*********************100%%**********************]  1 of 1 completed\n",
      "[*********************100%%**********************]  1 of 1 completed\n",
      "[*********************100%%**********************]  1 of 1 completed\n",
      "[*********************100%%**********************]  1 of 1 completed\n",
      "[*********************100%%**********************]  1 of 1 completed\n",
      "[*********************100%%**********************]  1 of 1 completed\n",
      "[*********************100%%**********************]  1 of 1 completed\n",
      "[*********************100%%**********************]  1 of 1 completed\n",
      "[*********************100%%**********************]  1 of 1 completed\n",
      "[*********************100%%**********************]  1 of 1 completed\n",
      "[*********************100%%**********************]  1 of 1 completed\n",
      "[*********************100%%**********************]  1 of 1 completed\n",
      "[*********************100%%**********************]  1 of 1 completed\n",
      "[*********************100%%**********************]  1 of 1 completed\n",
      "[*********************100%%**********************]  1 of 1 completed\n",
      "[*********************100%%**********************]  1 of 1 completed\n",
      "[*********************100%%**********************]  1 of 1 completed\n",
      "[*********************100%%**********************]  1 of 1 completed\n",
      "[*********************100%%**********************]  1 of 1 completed\n",
      "[*********************100%%**********************]  1 of 1 completed\n",
      "[*********************100%%**********************]  1 of 1 completed\n",
      "[*********************100%%**********************]  1 of 1 completed\n",
      "[*********************100%%**********************]  1 of 1 completed\n",
      "[*********************100%%**********************]  1 of 1 completed\n",
      "[*********************100%%**********************]  1 of 1 completed\n",
      "             Date        Open        High         Low       Close   Adj Close  \\\n",
      "0      2014-09-17  465.864014  468.174011  452.421997  457.334015  457.334015   \n",
      "1      2014-09-18  456.859985  456.859985  413.104004  424.440002  424.440002   \n",
      "2      2014-09-19  424.102997  427.834991  384.532013  394.795990  394.795990   \n",
      "3      2014-09-20  394.673004  423.295990  389.882996  408.903992  408.903992   \n",
      "4      2014-09-21  408.084991  412.425995  393.181000  398.821014  398.821014   \n",
      "...           ...         ...         ...         ...         ...         ...   \n",
      "326542 2023-11-10    0.528206    0.550748    0.520364    0.546046    0.546046   \n",
      "326543 2023-11-11    0.546151    0.566882    0.527433    0.566882    0.566882   \n",
      "326544 2023-11-12    0.568074    0.569165    0.549010    0.561375    0.561375   \n",
      "326545 2023-11-13    0.561283    0.594447    0.539539    0.542019    0.542019   \n",
      "326546 2023-11-14    0.541958    0.541958    0.510472    0.521311    0.521311   \n",
      "\n",
      "            Volume      Symbol  \n",
      "0       21056800.0     BTC-USD  \n",
      "1       34483200.0     BTC-USD  \n",
      "2       37919700.0     BTC-USD  \n",
      "3       36863600.0     BTC-USD  \n",
      "4       26580100.0     BTC-USD  \n",
      "...            ...         ...  \n",
      "326542  14600088.0  PUNDIX-USD  \n",
      "326543  12998393.0  PUNDIX-USD  \n",
      "326544  10082649.0  PUNDIX-USD  \n",
      "326545  33508225.0  PUNDIX-USD  \n",
      "326546   9145345.0  PUNDIX-USD  \n",
      "\n",
      "[326547 rows x 8 columns]\n"
     ]
    }
   ],
   "source": [
    "import yfinance as yf\n",
    "import pandas as pd\n",
    "\n",
    "# Define the list of cryptocurrency symbols\n",
    "tickers = symbols  # Add more symbols as needed\n",
    "\n",
    "# Define the start and end dates\n",
    "start_date = '2014-01-01'\n",
    "end_date = pd.to_datetime('today').strftime('%Y-%m-%d')\n",
    "\n",
    "# Create an empty DataFrame to store the data\n",
    "data = pd.DataFrame()\n",
    "\n",
    "# Loop through each symbol\n",
    "for ticker in tickers:\n",
    "    # Download the data from Yahoo Finance\n",
    "    df = yf.download(ticker, start=start_date, end=end_date)\n",
    "    \n",
    "    # Add a 'Symbol' column to the DataFrame\n",
    "    df['Symbol'] = ticker\n",
    "    \n",
    "    # Append the data to the main DataFrame\n",
    "    data = data.append(df)\n",
    "\n",
    "# Reset the index of the main DataFrame\n",
    "data.reset_index(inplace=True)\n",
    "\n",
    "# Print the data\n",
    "print(data)\n"
   ]
  },
  {
   "cell_type": "code",
   "execution_count": 7,
   "metadata": {},
   "outputs": [
    {
     "data": {
      "text/html": [
       "<div>\n",
       "<style scoped>\n",
       "    .dataframe tbody tr th:only-of-type {\n",
       "        vertical-align: middle;\n",
       "    }\n",
       "\n",
       "    .dataframe tbody tr th {\n",
       "        vertical-align: top;\n",
       "    }\n",
       "\n",
       "    .dataframe thead th {\n",
       "        text-align: right;\n",
       "    }\n",
       "</style>\n",
       "<table border=\"1\" class=\"dataframe\">\n",
       "  <thead>\n",
       "    <tr style=\"text-align: right;\">\n",
       "      <th></th>\n",
       "      <th>Date</th>\n",
       "      <th>Open</th>\n",
       "      <th>High</th>\n",
       "      <th>Low</th>\n",
       "      <th>Close</th>\n",
       "      <th>Adj Close</th>\n",
       "      <th>Volume</th>\n",
       "      <th>Symbol</th>\n",
       "    </tr>\n",
       "  </thead>\n",
       "  <tbody>\n",
       "    <tr>\n",
       "      <th>0</th>\n",
       "      <td>2014-09-17</td>\n",
       "      <td>465.864014</td>\n",
       "      <td>468.174011</td>\n",
       "      <td>452.421997</td>\n",
       "      <td>457.334015</td>\n",
       "      <td>457.334015</td>\n",
       "      <td>21056800.0</td>\n",
       "      <td>BTC-USD</td>\n",
       "    </tr>\n",
       "    <tr>\n",
       "      <th>1</th>\n",
       "      <td>2014-09-18</td>\n",
       "      <td>456.859985</td>\n",
       "      <td>456.859985</td>\n",
       "      <td>413.104004</td>\n",
       "      <td>424.440002</td>\n",
       "      <td>424.440002</td>\n",
       "      <td>34483200.0</td>\n",
       "      <td>BTC-USD</td>\n",
       "    </tr>\n",
       "    <tr>\n",
       "      <th>2</th>\n",
       "      <td>2014-09-19</td>\n",
       "      <td>424.102997</td>\n",
       "      <td>427.834991</td>\n",
       "      <td>384.532013</td>\n",
       "      <td>394.795990</td>\n",
       "      <td>394.795990</td>\n",
       "      <td>37919700.0</td>\n",
       "      <td>BTC-USD</td>\n",
       "    </tr>\n",
       "    <tr>\n",
       "      <th>3</th>\n",
       "      <td>2014-09-20</td>\n",
       "      <td>394.673004</td>\n",
       "      <td>423.295990</td>\n",
       "      <td>389.882996</td>\n",
       "      <td>408.903992</td>\n",
       "      <td>408.903992</td>\n",
       "      <td>36863600.0</td>\n",
       "      <td>BTC-USD</td>\n",
       "    </tr>\n",
       "    <tr>\n",
       "      <th>4</th>\n",
       "      <td>2014-09-21</td>\n",
       "      <td>408.084991</td>\n",
       "      <td>412.425995</td>\n",
       "      <td>393.181000</td>\n",
       "      <td>398.821014</td>\n",
       "      <td>398.821014</td>\n",
       "      <td>26580100.0</td>\n",
       "      <td>BTC-USD</td>\n",
       "    </tr>\n",
       "    <tr>\n",
       "      <th>...</th>\n",
       "      <td>...</td>\n",
       "      <td>...</td>\n",
       "      <td>...</td>\n",
       "      <td>...</td>\n",
       "      <td>...</td>\n",
       "      <td>...</td>\n",
       "      <td>...</td>\n",
       "      <td>...</td>\n",
       "    </tr>\n",
       "    <tr>\n",
       "      <th>326542</th>\n",
       "      <td>2023-11-10</td>\n",
       "      <td>0.528206</td>\n",
       "      <td>0.550748</td>\n",
       "      <td>0.520364</td>\n",
       "      <td>0.546046</td>\n",
       "      <td>0.546046</td>\n",
       "      <td>14600088.0</td>\n",
       "      <td>PUNDIX-USD</td>\n",
       "    </tr>\n",
       "    <tr>\n",
       "      <th>326543</th>\n",
       "      <td>2023-11-11</td>\n",
       "      <td>0.546151</td>\n",
       "      <td>0.566882</td>\n",
       "      <td>0.527433</td>\n",
       "      <td>0.566882</td>\n",
       "      <td>0.566882</td>\n",
       "      <td>12998393.0</td>\n",
       "      <td>PUNDIX-USD</td>\n",
       "    </tr>\n",
       "    <tr>\n",
       "      <th>326544</th>\n",
       "      <td>2023-11-12</td>\n",
       "      <td>0.568074</td>\n",
       "      <td>0.569165</td>\n",
       "      <td>0.549010</td>\n",
       "      <td>0.561375</td>\n",
       "      <td>0.561375</td>\n",
       "      <td>10082649.0</td>\n",
       "      <td>PUNDIX-USD</td>\n",
       "    </tr>\n",
       "    <tr>\n",
       "      <th>326545</th>\n",
       "      <td>2023-11-13</td>\n",
       "      <td>0.561283</td>\n",
       "      <td>0.594447</td>\n",
       "      <td>0.539539</td>\n",
       "      <td>0.542019</td>\n",
       "      <td>0.542019</td>\n",
       "      <td>33508225.0</td>\n",
       "      <td>PUNDIX-USD</td>\n",
       "    </tr>\n",
       "    <tr>\n",
       "      <th>326546</th>\n",
       "      <td>2023-11-14</td>\n",
       "      <td>0.541958</td>\n",
       "      <td>0.541958</td>\n",
       "      <td>0.510472</td>\n",
       "      <td>0.521311</td>\n",
       "      <td>0.521311</td>\n",
       "      <td>9145345.0</td>\n",
       "      <td>PUNDIX-USD</td>\n",
       "    </tr>\n",
       "  </tbody>\n",
       "</table>\n",
       "<p>326547 rows × 8 columns</p>\n",
       "</div>"
      ],
      "text/plain": [
       "             Date        Open        High         Low       Close   Adj Close  \\\n",
       "0      2014-09-17  465.864014  468.174011  452.421997  457.334015  457.334015   \n",
       "1      2014-09-18  456.859985  456.859985  413.104004  424.440002  424.440002   \n",
       "2      2014-09-19  424.102997  427.834991  384.532013  394.795990  394.795990   \n",
       "3      2014-09-20  394.673004  423.295990  389.882996  408.903992  408.903992   \n",
       "4      2014-09-21  408.084991  412.425995  393.181000  398.821014  398.821014   \n",
       "...           ...         ...         ...         ...         ...         ...   \n",
       "326542 2023-11-10    0.528206    0.550748    0.520364    0.546046    0.546046   \n",
       "326543 2023-11-11    0.546151    0.566882    0.527433    0.566882    0.566882   \n",
       "326544 2023-11-12    0.568074    0.569165    0.549010    0.561375    0.561375   \n",
       "326545 2023-11-13    0.561283    0.594447    0.539539    0.542019    0.542019   \n",
       "326546 2023-11-14    0.541958    0.541958    0.510472    0.521311    0.521311   \n",
       "\n",
       "            Volume      Symbol  \n",
       "0       21056800.0     BTC-USD  \n",
       "1       34483200.0     BTC-USD  \n",
       "2       37919700.0     BTC-USD  \n",
       "3       36863600.0     BTC-USD  \n",
       "4       26580100.0     BTC-USD  \n",
       "...            ...         ...  \n",
       "326542  14600088.0  PUNDIX-USD  \n",
       "326543  12998393.0  PUNDIX-USD  \n",
       "326544  10082649.0  PUNDIX-USD  \n",
       "326545  33508225.0  PUNDIX-USD  \n",
       "326546   9145345.0  PUNDIX-USD  \n",
       "\n",
       "[326547 rows x 8 columns]"
      ]
     },
     "metadata": {},
     "output_type": "display_data"
    }
   ],
   "source": [
    "import pandas as pd\n",
    "data = pd.DataFrame(data)\n",
    "display(data)\n",
    "data.to_csv(r\"C:\\Users\\USER\\OneDrive\\Escritorio\\Memoria\\Memoria_LA\\Codigos\\Crypto_data250.csv\")"
   ]
  }
 ],
 "metadata": {
  "kernelspec": {
   "display_name": "base",
   "language": "python",
   "name": "python3"
  },
  "language_info": {
   "codemirror_mode": {
    "name": "ipython",
    "version": 3
   },
   "file_extension": ".py",
   "mimetype": "text/x-python",
   "name": "python",
   "nbconvert_exporter": "python",
   "pygments_lexer": "ipython3",
   "version": "3.7.3"
  }
 },
 "nbformat": 4,
 "nbformat_minor": 2
}
